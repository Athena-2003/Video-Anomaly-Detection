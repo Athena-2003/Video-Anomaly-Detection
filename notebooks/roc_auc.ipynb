{
 "cells": [
  {
   "cell_type": "code",
   "execution_count": 2,
   "metadata": {
    "id": "kYheGDLdAP7N"
   },
   "outputs": [
    {
     "name": "stdout",
     "output_type": "stream",
     "text": [
      "Using GPU: NVIDIA GeForce RTX 3050 Ti Laptop GPU\n"
     ]
    }
   ],
   "source": [
    "import os\n",
    "import sys\n",
    "import torch\n",
    "import torch.backends.cudnn as cudnn\n",
    "from tqdm import tqdm\n",
    "from sklearn.metrics import roc_curve, auc\n",
    "import matplotlib.pyplot as plt\n",
    "from os import path\n",
    "import numpy as np\n",
    "\n",
    "module_path = os.path.abspath(os.path.join('..'))\n",
    "if module_path not in sys.path:\n",
    "    sys.path.append(module_path)\n",
    "\n",
    "from network.TorchUtils import TorchModel\n",
    "from features_loader import FeaturesLoaderVal\n",
    "from utils.utils_ import get_torch_device\n",
    "from utils.utils_ import register_logger "
   ]
  },
  {
   "cell_type": "code",
   "execution_count": 2,
   "metadata": {},
   "outputs": [
    {
     "name": "stdout",
     "output_type": "stream",
     "text": [
      "Requirement already satisfied: cjm-pytorch-utils in f:\\vad\\env\\lib\\site-packages (0.0.6)\n",
      "Requirement already satisfied: pandas in f:\\vad\\env\\lib\\site-packages (from cjm-pytorch-utils) (2.2.2)\n",
      "Requirement already satisfied: numpy in f:\\vad\\env\\lib\\site-packages (from cjm-pytorch-utils) (1.26.3)\n",
      "Requirement already satisfied: torch in f:\\vad\\env\\lib\\site-packages (from cjm-pytorch-utils) (2.3.1+cu121)\n",
      "Requirement already satisfied: torchvision in f:\\vad\\env\\lib\\site-packages (from cjm-pytorch-utils) (0.18.1+cu121)\n",
      "Requirement already satisfied: pillow in f:\\vad\\env\\lib\\site-packages (from cjm-pytorch-utils) (10.2.0)\n",
      "Requirement already satisfied: python-dateutil>=2.8.2 in f:\\vad\\env\\lib\\site-packages (from pandas->cjm-pytorch-utils) (2.9.0.post0)\n",
      "Requirement already satisfied: pytz>=2020.1 in f:\\vad\\env\\lib\\site-packages (from pandas->cjm-pytorch-utils) (2024.1)\n",
      "Requirement already satisfied: tzdata>=2022.7 in f:\\vad\\env\\lib\\site-packages (from pandas->cjm-pytorch-utils) (2024.1)\n",
      "Requirement already satisfied: filelock in f:\\vad\\env\\lib\\site-packages (from torch->cjm-pytorch-utils) (3.13.1)\n",
      "Requirement already satisfied: typing-extensions>=4.8.0 in f:\\vad\\env\\lib\\site-packages (from torch->cjm-pytorch-utils) (4.9.0)\n",
      "Requirement already satisfied: sympy in f:\\vad\\env\\lib\\site-packages (from torch->cjm-pytorch-utils) (1.12)\n",
      "Requirement already satisfied: networkx in f:\\vad\\env\\lib\\site-packages (from torch->cjm-pytorch-utils) (3.2.1)\n",
      "Requirement already satisfied: jinja2 in f:\\vad\\env\\lib\\site-packages (from torch->cjm-pytorch-utils) (3.1.3)\n",
      "Requirement already satisfied: fsspec in f:\\vad\\env\\lib\\site-packages (from torch->cjm-pytorch-utils) (2024.2.0)\n",
      "Requirement already satisfied: mkl<=2021.4.0,>=2021.1.1 in f:\\vad\\env\\lib\\site-packages (from torch->cjm-pytorch-utils) (2021.4.0)\n",
      "Requirement already satisfied: intel-openmp==2021.* in f:\\vad\\env\\lib\\site-packages (from mkl<=2021.4.0,>=2021.1.1->torch->cjm-pytorch-utils) (2021.4.0)\n",
      "Requirement already satisfied: tbb==2021.* in f:\\vad\\env\\lib\\site-packages (from mkl<=2021.4.0,>=2021.1.1->torch->cjm-pytorch-utils) (2021.11.0)\n",
      "Requirement already satisfied: six>=1.5 in f:\\vad\\env\\lib\\site-packages (from python-dateutil>=2.8.2->pandas->cjm-pytorch-utils) (1.16.0)\n",
      "Requirement already satisfied: MarkupSafe>=2.0 in f:\\vad\\env\\lib\\site-packages (from jinja2->torch->cjm-pytorch-utils) (2.1.5)\n",
      "Requirement already satisfied: mpmath>=0.19 in f:\\vad\\env\\lib\\site-packages (from sympy->torch->cjm-pytorch-utils) (1.3.0)\n",
      "Note: you may need to restart the kernel to use updated packages.\n"
     ]
    },
    {
     "name": "stderr",
     "output_type": "stream",
     "text": [
      "\n",
      "[notice] A new release of pip is available: 24.1 -> 24.1.1\n",
      "[notice] To update, run: python.exe -m pip install --upgrade pip\n"
     ]
    }
   ],
   "source": [
    "pip install cjm-pytorch-utils\n"
   ]
  },
  {
   "cell_type": "code",
   "execution_count": 3,
   "metadata": {},
   "outputs": [
    {
     "name": "stdout",
     "output_type": "stream",
     "text": [
      "Requirement already satisfied: scikit-learn in f:\\vad\\env\\lib\\site-packages (1.5.0)Note: you may need to restart the kernel to use updated packages.\n"
     ]
    },
    {
     "name": "stderr",
     "output_type": "stream",
     "text": [
      "\n",
      "[notice] A new release of pip is available: 24.1 -> 24.1.1\n",
      "[notice] To update, run: python.exe -m pip install --upgrade pip\n"
     ]
    },
    {
     "name": "stdout",
     "output_type": "stream",
     "text": [
      "\n",
      "Requirement already satisfied: numpy>=1.19.5 in f:\\vad\\env\\lib\\site-packages (from scikit-learn) (1.26.3)\n",
      "Requirement already satisfied: scipy>=1.6.0 in f:\\vad\\env\\lib\\site-packages (from scikit-learn) (1.14.0)\n",
      "Requirement already satisfied: joblib>=1.2.0 in f:\\vad\\env\\lib\\site-packages (from scikit-learn) (1.4.2)\n",
      "Requirement already satisfied: threadpoolctl>=3.1.0 in f:\\vad\\env\\lib\\site-packages (from scikit-learn) (3.5.0)\n"
     ]
    }
   ],
   "source": [
    "pip install scikit-learn\n"
   ]
  },
  {
   "cell_type": "code",
   "execution_count": 2,
   "metadata": {},
   "outputs": [
    {
     "name": "stdout",
     "output_type": "stream",
     "text": [
      "Using GPU: NVIDIA GeForce RTX 3050 Ti Laptop GPU\n",
      "cuda\n"
     ]
    }
   ],
   "source": [
    "print(get_torch_device())"
   ]
  },
  {
   "cell_type": "code",
   "execution_count": 3,
   "metadata": {
    "colab": {
     "base_uri": "https://localhost:8080/",
     "height": 357
    },
    "id": "3K90dmBgAu8A",
    "outputId": "8b75ff61-be29-4fde-c14d-9fa715295b11"
   },
   "outputs": [
    {
     "name": "stdout",
     "output_type": "stream",
     "text": [
      "Thu Jul  4 14:44:36 2024       \n",
      "+-----------------------------------------------------------------------------------------+\n",
      "| NVIDIA-SMI 555.99                 Driver Version: 555.99         CUDA Version: 12.5     |\n",
      "|-----------------------------------------+------------------------+----------------------+\n",
      "| GPU  Name                  Driver-Model | Bus-Id          Disp.A | Volatile Uncorr. ECC |\n",
      "| Fan  Temp   Perf          Pwr:Usage/Cap |           Memory-Usage | GPU-Util  Compute M. |\n",
      "|                                         |                        |               MIG M. |\n",
      "|=========================================+========================+======================|\n",
      "|   0  NVIDIA GeForce RTX 3050 ...  WDDM  |   00000000:01:00.0 Off |                  N/A |\n",
      "| N/A   55C    P5             15W /   20W |     378MiB /   4096MiB |      8%      Default |\n",
      "|                                         |                        |                  N/A |\n",
      "+-----------------------------------------+------------------------+----------------------+\n",
      "                                                                                         \n",
      "+-----------------------------------------------------------------------------------------+\n",
      "| Processes:                                                                              |\n",
      "|  GPU   GI   CI        PID   Type   Process name                              GPU Memory |\n",
      "|        ID   ID                                                               Usage      |\n",
      "|=========================================================================================|\n",
      "|    0   N/A  N/A      1352    C+G   ...6.0_x64__cv1g1gvanyjgm\\WhatsApp.exe      N/A      |\n",
      "|    0   N/A  N/A      5492    C+G   ...US\\ArmouryDevice\\asus_framework.exe      N/A      |\n",
      "|    0   N/A  N/A      7080    C+G   ....Search_cw5n1h2txyewy\\SearchApp.exe      N/A      |\n",
      "|    0   N/A  N/A     11896    C+G   ...2txyewy\\StartMenuExperienceHost.exe      N/A      |\n",
      "|    0   N/A  N/A     12696    C+G   ....Search_cw5n1h2txyewy\\SearchApp.exe      N/A      |\n",
      "|    0   N/A  N/A     13316    C+G   ...x64__qmba6cd70vzyy\\ArmouryCrate.exe      N/A      |\n",
      "|    0   N/A  N/A     15896    C+G   ...__wafk5atnkzcwy\\mcafee-security.exe      N/A      |\n",
      "|    0   N/A  N/A     16264    C+G   ...t.LockApp_cw5n1h2txyewy\\LockApp.exe      N/A      |\n",
      "|    0   N/A  N/A     18492    C+G   ...CBS_cw5n1h2txyewy\\TextInputHost.exe      N/A      |\n",
      "|    0   N/A  N/A     18508    C+G   ...les\\Microsoft OneDrive\\OneDrive.exe      N/A      |\n",
      "|    0   N/A  N/A     19060    C+G   ...Programs\\Microsoft VS Code\\Code.exe      N/A      |\n",
      "|    0   N/A  N/A     19620    C+G   ...on\\126.0.2592.87\\msedgewebview2.exe      N/A      |\n",
      "|    0   N/A  N/A     20132    C+G   ...s\\ValoTra\\overwolf\\old_Overwolf.exe      N/A      |\n",
      "|    0   N/A  N/A     20212    C+G   ...rwolf\\0.251.2.1\\OverwolfBrowser.exe      N/A      |\n",
      "|    0   N/A  N/A     20312    C+G   ...B\\system_tray\\lghub_system_tray.exe      N/A      |\n",
      "|    0   N/A  N/A     23196    C+G   ...42.0_x64__8wekyb3d8bbwe\\GameBar.exe      N/A      |\n",
      "+-----------------------------------------------------------------------------------------+\n"
     ]
    }
   ],
   "source": [
    "!nvidia-smi"
   ]
  },
  {
   "cell_type": "markdown",
   "metadata": {},
   "source": [
    "# Definitions"
   ]
  },
  {
   "cell_type": "code",
   "execution_count": 3,
   "metadata": {},
   "outputs": [
    {
     "name": "stdout",
     "output_type": "stream",
     "text": [
      "Using GPU: NVIDIA GeForce RTX 3050 Ti Laptop GPU\n"
     ]
    }
   ],
   "source": [
    "features_path = r'F:\\VAD\\AnomalyDetection\\features'  # path to features\n",
    "annotation_path = r'F:\\VAD\\AnomalyDetection\\AnomalyDetectionCVPR2018-Pytorch\\Test_Annotation.txt' \n",
    "model_path = r'F:\\VAD\\AnomalyDetection\\AnomalyDetectionCVPR2018-Pytorch\\exps\\c3d\\models\\epoch_80000.pt'  # set logging file\n",
    "\n",
    "# enable cudnn tune\n",
    "cudnn.benchmark = True\n",
    "device = get_torch_device()  # will use GPU if available, CPU otherwise"
   ]
  },
  {
   "cell_type": "code",
   "execution_count": 4,
   "metadata": {},
   "outputs": [
    {
     "ename": "PermissionError",
     "evalue": "[Errno 13] Permission denied: 'F:\\\\VAD\\\\AnomalyDetection\\\\features'",
     "output_type": "error",
     "traceback": [
      "\u001b[1;31m---------------------------------------------------------------------------\u001b[0m",
      "\u001b[1;31mPermissionError\u001b[0m                           Traceback (most recent call last)",
      "Cell \u001b[1;32mIn[4], line 1\u001b[0m\n\u001b[1;32m----> 1\u001b[0m f \u001b[38;5;241m=\u001b[39m \u001b[38;5;28;43mopen\u001b[39;49m\u001b[43m(\u001b[49m\u001b[43mfeatures_path\u001b[49m\u001b[43m,\u001b[49m\u001b[43m \u001b[49m\u001b[38;5;124;43m'\u001b[39;49m\u001b[38;5;124;43mr\u001b[39;49m\u001b[38;5;124;43m'\u001b[39;49m\u001b[43m)\u001b[49m\n\u001b[0;32m      2\u001b[0m \u001b[38;5;66;03m# f1 = open(features_path, 'r')\u001b[39;00m\n\u001b[0;32m      3\u001b[0m \u001b[38;5;28mprint\u001b[39m(f\u001b[38;5;241m.\u001b[39mread())\n",
      "File \u001b[1;32mf:\\VAD\\env\\Lib\\site-packages\\IPython\\core\\interactiveshell.py:324\u001b[0m, in \u001b[0;36m_modified_open\u001b[1;34m(file, *args, **kwargs)\u001b[0m\n\u001b[0;32m    317\u001b[0m \u001b[38;5;28;01mif\u001b[39;00m file \u001b[38;5;129;01min\u001b[39;00m {\u001b[38;5;241m0\u001b[39m, \u001b[38;5;241m1\u001b[39m, \u001b[38;5;241m2\u001b[39m}:\n\u001b[0;32m    318\u001b[0m     \u001b[38;5;28;01mraise\u001b[39;00m \u001b[38;5;167;01mValueError\u001b[39;00m(\n\u001b[0;32m    319\u001b[0m         \u001b[38;5;124mf\u001b[39m\u001b[38;5;124m\"\u001b[39m\u001b[38;5;124mIPython won\u001b[39m\u001b[38;5;124m'\u001b[39m\u001b[38;5;124mt let you open fd=\u001b[39m\u001b[38;5;132;01m{\u001b[39;00mfile\u001b[38;5;132;01m}\u001b[39;00m\u001b[38;5;124m by default \u001b[39m\u001b[38;5;124m\"\u001b[39m\n\u001b[0;32m    320\u001b[0m         \u001b[38;5;124m\"\u001b[39m\u001b[38;5;124mas it is likely to crash IPython. If you know what you are doing, \u001b[39m\u001b[38;5;124m\"\u001b[39m\n\u001b[0;32m    321\u001b[0m         \u001b[38;5;124m\"\u001b[39m\u001b[38;5;124myou can use builtins\u001b[39m\u001b[38;5;124m'\u001b[39m\u001b[38;5;124m open.\u001b[39m\u001b[38;5;124m\"\u001b[39m\n\u001b[0;32m    322\u001b[0m     )\n\u001b[1;32m--> 324\u001b[0m \u001b[38;5;28;01mreturn\u001b[39;00m \u001b[43mio_open\u001b[49m\u001b[43m(\u001b[49m\u001b[43mfile\u001b[49m\u001b[43m,\u001b[49m\u001b[43m \u001b[49m\u001b[38;5;241;43m*\u001b[39;49m\u001b[43margs\u001b[49m\u001b[43m,\u001b[49m\u001b[43m \u001b[49m\u001b[38;5;241;43m*\u001b[39;49m\u001b[38;5;241;43m*\u001b[39;49m\u001b[43mkwargs\u001b[49m\u001b[43m)\u001b[49m\n",
      "\u001b[1;31mPermissionError\u001b[0m: [Errno 13] Permission denied: 'F:\\\\VAD\\\\AnomalyDetection\\\\features'"
     ]
    }
   ],
   "source": [
    "f = open(features_path, 'r')\n",
    "# f1 = open(features_path, 'r')\n",
    "print(f.read())\n"
   ]
  },
  {
   "cell_type": "markdown",
   "metadata": {},
   "source": [
    "# Load dataset and detection model"
   ]
  },
  {
   "cell_type": "code",
   "execution_count": 5,
   "metadata": {},
   "outputs": [],
   "source": [
    "data_loader = FeaturesLoaderVal(features_path=features_path,\n",
    "                                    annotation_path=annotation_path)\n",
    "data_iter = torch.utils.data.DataLoader(data_loader,\n",
    "                                            batch_size=1,\n",
    "                                            shuffle=False,\n",
    "                                            num_workers=0,  # 4, # change this part accordingly\n",
    "                                            pin_memory=True)\n",
    "\n",
    "model = TorchModel.load_model(model_path).to(device).eval()"
   ]
  },
  {
   "cell_type": "markdown",
   "metadata": {},
   "source": [
    "# Predict scores"
   ]
  },
  {
   "cell_type": "code",
   "execution_count": 6,
   "metadata": {},
   "outputs": [
    {
     "name": "stderr",
     "output_type": "stream",
     "text": [
      "100%|██████████| 290/290 [00:35<00:00,  8.22it/s]\n"
     ]
    }
   ],
   "source": [
    "y_trues = torch.tensor([])\n",
    "y_preds = torch.tensor([])\n",
    "\n",
    "with torch.no_grad():\n",
    "    for features, start_end_couples, lengths in tqdm(data_iter):\n",
    "        # features is a batch where each item is a tensor of 32 4096D features\n",
    "        features = features.to(device)\n",
    "        outputs = model(features).squeeze(-1)  # (batch_size, 32)\n",
    "        for vid_len, couples, output in zip(lengths, start_end_couples, outputs.cpu().numpy()):\n",
    "            y_true = np.zeros(vid_len)\n",
    "            y_pred = np.zeros(vid_len)\n",
    "\n",
    "            segments_len = vid_len // 32\n",
    "            for couple in couples:\n",
    "                if couple[0] != -1:\n",
    "                    y_true[couple[0]: couple[1]] = 1\n",
    "\n",
    "            for i in range(32):\n",
    "                segment_start_frame = i * segments_len\n",
    "                segment_end_frame = (i + 1) * segments_len\n",
    "                y_pred[segment_start_frame: segment_end_frame] = output[i]\n",
    "\n",
    "            if y_trues is None:\n",
    "                y_trues = y_true\n",
    "                y_preds = y_pred\n",
    "            else:\n",
    "                y_trues = np.concatenate([y_trues, y_true])\n",
    "                y_preds = np.concatenate([y_preds, y_pred])\n"
   ]
  },
  {
   "cell_type": "markdown",
   "metadata": {},
   "source": [
    "## Calculate ROC-AUC and plot the graph"
   ]
  },
  {
   "cell_type": "code",
   "execution_count": 7,
   "metadata": {},
   "outputs": [
    {
     "name": "stdout",
     "output_type": "stream",
     "text": [
      "ROC curve (area = 0.69)\n"
     ]
    }
   ],
   "source": [
    "fpr, tpr, thresholds = roc_curve(y_true=y_trues, y_score=y_preds, pos_label=1)\n",
    "\n",
    "plt.figure()\n",
    "lw = 2\n",
    "roc_auc = auc(fpr, tpr)\n",
    "plt.plot(fpr, tpr, color='darkorange', lw=lw, label='ROC curve (area = %0.2f)' % roc_auc)\n",
    "plt.plot([0, 1], [0, 1], color='navy', lw=lw, linestyle='--')\n",
    "plt.xlim([0.0, 1.0])\n",
    "plt.ylim([0.0, 1.05])\n",
    "plt.xlabel('False Positive Rate')\n",
    "plt.ylabel('True Positive Rate')\n",
    "plt.legend(loc=\"lower right\")\n",
    "\n",
    "os.makedirs('graphs', exist_ok=True)\n",
    "plt.savefig(path.join('graphs', 'roc_auc.png'))\n",
    "plt.close()\n",
    "print('ROC curve (area = %0.2f)' % roc_auc)\n"
   ]
  },
  {
   "cell_type": "code",
   "execution_count": 22,
   "metadata": {},
   "outputs": [
    {
     "name": "stdout",
     "output_type": "stream",
     "text": [
      "ROC curve (area = 0.69)\n"
     ]
    }
   ],
   "source": [
    "import numpy as np\n",
    "import matplotlib.pyplot as plt\n",
    "from sklearn.metrics import roc_curve, auc\n",
    "import os\n",
    "\n",
    "# Compute ROC curve and ROC area\n",
    "fpr, tpr, thresholds = roc_curve(y_true=y_trues, y_score=y_preds, pos_label=1)\n",
    "roc_auc = auc(fpr, tpr)\n",
    "\n",
    "# Plotting the ROC curve\n",
    "plt.figure()\n",
    "lw = 2\n",
    "plt.plot(fpr, tpr, color='darkorange', lw=lw, label='ROC curve (area = %0.2f)' % roc_auc)\n",
    "plt.plot([0, 1], [0, 1], color='navy', lw=lw, linestyle='--')\n",
    "plt.xlim([0.0, 1.0])\n",
    "plt.ylim([0.0, 1.05])\n",
    "plt.xlabel('False Positive Rate')\n",
    "plt.ylabel('True Positive Rate')\n",
    "plt.title('Receiver Operating Characteristic (ROC)')\n",
    "plt.legend(loc=\"lower right\")\n",
    "\n",
    "# Save the plot to the specified directory\n",
    "os.makedirs('graphs', exist_ok=True)\n",
    "plt.savefig(os.path.join('graphs', 'roc_auc.png'))\n",
    "plt.close()\n",
    "\n",
    "print('ROC curve (area = %0.2f)' % roc_auc)\n"
   ]
  },
  {
   "cell_type": "code",
   "execution_count": 16,
   "metadata": {},
   "outputs": [
    {
     "name": "stdout",
     "output_type": "stream",
     "text": [
      "True Positive Rate (TPR): 0.31821529543132737\n"
     ]
    }
   ],
   "source": [
    "import numpy as np\n",
    "threshold = 0.5\n",
    "y_preds_binary = (y_preds >= threshold).astype(int)\n",
    "\n",
    "\n",
    "TP = np.sum((y_preds_binary == 1) & (y_trues == 1))\n",
    "FN = np.sum((y_preds_binary == 0) & (y_trues == 1))\n",
    "\n",
    "TPR = TP / (TP + FN)\n",
    "\n",
    "print(f\"True Positive Rate (TPR): {TPR}\")\n"
   ]
  },
  {
   "cell_type": "code",
   "execution_count": 17,
   "metadata": {},
   "outputs": [
    {
     "name": "stdout",
     "output_type": "stream",
     "text": [
      "False Positive Rate (FPR): 0.11420691963807844\n"
     ]
    }
   ],
   "source": [
    "import numpy as np\n",
    "\n",
    "threshold = 0.5\n",
    "y_preds_binary = (y_preds >= threshold).astype(int)\n",
    "\n",
    "FP = np.sum((y_preds_binary == 1) & (y_trues == 0))\n",
    "TN = np.sum((y_preds_binary == 0) & (y_trues == 0))\n",
    "\n",
    "FPR = FP / (FP + TN)\n",
    "\n",
    "print(f\"False Positive Rate (FPR): {FPR}\")\n"
   ]
  },
  {
   "cell_type": "code",
   "execution_count": 18,
   "metadata": {},
   "outputs": [
    {
     "name": "stdout",
     "output_type": "stream",
     "text": [
      "True Negative Rate (TNR): 0.8857930803619215\n"
     ]
    }
   ],
   "source": [
    "import numpy as np\n",
    "\n",
    "# Assume y_preds and y_trues are defined elsewhere in your code\n",
    "threshold = 0.5\n",
    "y_preds_binary = (y_preds >= threshold).astype(int)\n",
    "\n",
    "FP = np.sum((y_preds_binary == 1) & (y_trues == 0))\n",
    "TN = np.sum((y_preds_binary == 0) & (y_trues == 0))\n",
    "\n",
    "TNR = TN / (TN + FP)\n",
    "\n",
    "print(f\"True Negative Rate (TNR): {TNR}\")\n"
   ]
  },
  {
   "cell_type": "code",
   "execution_count": 19,
   "metadata": {},
   "outputs": [
    {
     "name": "stdout",
     "output_type": "stream",
     "text": [
      "False Negative Rate (FNR): 0.6817847045686727\n"
     ]
    }
   ],
   "source": [
    "import numpy as np\n",
    "\n",
    "# Assume y_preds and y_trues are defined elsewhere in your code\n",
    "threshold = 0.5\n",
    "y_preds_binary = (y_preds >= threshold).astype(int)\n",
    "\n",
    "FN = np.sum((y_preds_binary == 0) & (y_trues == 1))\n",
    "TP = np.sum((y_preds_binary == 1) & (y_trues == 1))\n",
    "\n",
    "FNR = FN / (FN + TP)\n",
    "\n",
    "print(f\"False Negative Rate (FNR): {FNR}\")\n"
   ]
  },
  {
   "cell_type": "code",
   "execution_count": 26,
   "metadata": {},
   "outputs": [
    {
     "name": "stdout",
     "output_type": "stream",
     "text": [
      "True Positive Rate (TPR) at threshold 0.5: 0.4936025589764094\n"
     ]
    }
   ],
   "source": [
    "import numpy as np\n",
    "\n",
    "def calculate_metrics(y_true, y_score, thresholds):\n",
    "    tpr_list = []\n",
    "    fpr_list = []\n",
    "    tnr_list = []\n",
    "    fnr_list = []\n",
    "    \n",
    "    for threshold in thresholds:\n",
    "        # Binarize predictions\n",
    "        y_preds_binary = (y_score >= threshold).astype(int)\n",
    "        \n",
    "        # Calculate confusion matrix components\n",
    "        TP = np.sum((y_preds_binary == 1) & (y_true == 1))\n",
    "        FN = np.sum((y_preds_binary == 0) & (y_true == 1))\n",
    "        TN = np.sum((y_preds_binary == 0) & (y_true == 0))\n",
    "        FP = np.sum((y_preds_binary == 1) & (y_true == 0))\n",
    "        \n",
    "        # Calculate rates\n",
    "        TPR = TP / (TP + FN) if (TP + FN) > 0 else 0\n",
    "        FPR = FP / (FP + TN) if (FP + TN) > 0 else 0\n",
    "        TNR = TN / (TN + FP) if (TN + FP) > 0 else 0\n",
    "        FNR = FN / (FN + TP) if (FN + TP) > 0 else 0\n",
    "        \n",
    "        tpr_list.append(TPR)\n",
    "        fpr_list.append(FPR)\n",
    "        tnr_list.append(TNR)\n",
    "        fnr_list.append(FNR)\n",
    "    \n",
    "    return np.array(tpr_list), np.array(fpr_list), np.array(tnr_list), np.array(fnr_list)\n",
    "\n",
    "# Example usage\n",
    "# Replace y_true and y_score with your actual data\n",
    "y_true = np.random.randint(0, 2, 10000)  # Example true labels\n",
    "y_score = np.random.rand(10000)  # Example predicted scores\n",
    "\n",
    "# Define a range of thresholds\n",
    "thresholds = np.linspace(0, 1, 100)\n",
    "\n",
    "# Calculate metrics\n",
    "tpr, fpr, tnr, fnr = calculate_metrics(y_true, y_score, thresholds)\n",
    "\n",
    "# Print an example result\n",
    "print(f\"True Positive Rate (TPR) at threshold 0.5: {tpr[np.searchsorted(thresholds, 0.5)]}\")\n"
   ]
  },
  {
   "cell_type": "code",
   "execution_count": 27,
   "metadata": {},
   "outputs": [
    {
     "name": "stdout",
     "output_type": "stream",
     "text": [
      "False Positive Rate (FPR) at threshold 0.5: 0.4990885152926879\n"
     ]
    }
   ],
   "source": [
    "import numpy as np\n",
    "\n",
    "def calculate_metrics(y_true, y_score, thresholds):\n",
    "    tpr_list = []\n",
    "    fpr_list = []\n",
    "    tnr_list = []\n",
    "    fnr_list = []\n",
    "    \n",
    "    for threshold in thresholds:\n",
    "        # Binarize predictions\n",
    "        y_preds_binary = (y_score >= threshold).astype(int)\n",
    "        \n",
    "        # Calculate confusion matrix components\n",
    "        TP = np.sum((y_preds_binary == 1) & (y_true == 1))\n",
    "        FN = np.sum((y_preds_binary == 0) & (y_true == 1))\n",
    "        TN = np.sum((y_preds_binary == 0) & (y_true == 0))\n",
    "        FP = np.sum((y_preds_binary == 1) & (y_true == 0))\n",
    "        \n",
    "        # Calculate rates\n",
    "        TPR = TP / (TP + FN) if (TP + FN) > 0 else 0\n",
    "        FPR = FP / (FP + TN) if (FP + TN) > 0 else 0\n",
    "        TNR = TN / (TN + FP) if (TN + FP) > 0 else 0\n",
    "        FNR = FN / (FN + TP) if (FN + TP) > 0 else 0\n",
    "        \n",
    "        tpr_list.append(TPR)\n",
    "        fpr_list.append(FPR)\n",
    "        tnr_list.append(TNR)\n",
    "        fnr_list.append(FNR)\n",
    "    \n",
    "    return np.array(tpr_list), np.array(fpr_list), np.array(tnr_list), np.array(fnr_list)\n",
    "\n",
    "# Example usage\n",
    "# Replace y_true and y_score with your actual data\n",
    "y_true = np.random.randint(0, 2, 10000)  # Example true labels\n",
    "y_score = np.random.rand(10000)  # Example predicted scores\n",
    "\n",
    "# Define a range of thresholds\n",
    "thresholds = np.linspace(0, 1, 100)\n",
    "\n",
    "# Calculate metrics\n",
    "tpr, fpr, tnr, fnr = calculate_metrics(y_true, y_score, thresholds)\n",
    "\n",
    "# Print an example result\n",
    "print(f\"False Positive Rate (FPR) at threshold 0.5: {fpr[np.searchsorted(thresholds, 0.5)]}\")\n"
   ]
  },
  {
   "cell_type": "code",
   "execution_count": 28,
   "metadata": {},
   "outputs": [
    {
     "name": "stdout",
     "output_type": "stream",
     "text": [
      "True Negative Rate (TNR) at threshold 0.5: 0.4989010989010989\n"
     ]
    }
   ],
   "source": [
    "import numpy as np\n",
    "\n",
    "def calculate_metrics(y_true, y_score, thresholds):\n",
    "    tpr_list = []\n",
    "    fpr_list = []\n",
    "    tnr_list = []\n",
    "    fnr_list = []\n",
    "    \n",
    "    for threshold in thresholds:\n",
    "        # Binarize predictions\n",
    "        y_preds_binary = (y_score >= threshold).astype(int)\n",
    "        \n",
    "        # Calculate confusion matrix components\n",
    "        TP = np.sum((y_preds_binary == 1) & (y_true == 1))\n",
    "        FN = np.sum((y_preds_binary == 0) & (y_true == 1))\n",
    "        TN = np.sum((y_preds_binary == 0) & (y_true == 0))\n",
    "        FP = np.sum((y_preds_binary == 1) & (y_true == 0))\n",
    "        \n",
    "        # Calculate rates\n",
    "        TPR = TP / (TP + FN) if (TP + FN) > 0 else 0\n",
    "        FPR = FP / (FP + TN) if (FP + TN) > 0 else 0\n",
    "        TNR = TN / (TN + FP) if (TN + FP) > 0 else 0\n",
    "        FNR = FN / (FN + TP) if (FN + TP) > 0 else 0\n",
    "        \n",
    "        tpr_list.append(TPR)\n",
    "        fpr_list.append(FPR)\n",
    "        tnr_list.append(TNR)\n",
    "        fnr_list.append(FNR)\n",
    "    \n",
    "    return np.array(tpr_list), np.array(fpr_list), np.array(tnr_list), np.array(fnr_list)\n",
    "\n",
    "# Example usage\n",
    "# Replace y_true and y_score with your actual data\n",
    "y_true = np.random.randint(0, 2, 10000)  # Example true labels\n",
    "y_score = np.random.rand(10000)  # Example predicted scores\n",
    "\n",
    "# Define a range of thresholds\n",
    "thresholds = np.linspace(0, 1, 100)\n",
    "\n",
    "# Calculate metrics\n",
    "tpr, fpr, tnr, fnr = calculate_metrics(y_true, y_score, thresholds)\n",
    "\n",
    "# Print an example result\n",
    "print(f\"True Negative Rate (TNR) at threshold 0.5: {tnr[np.searchsorted(thresholds, 0.5)]}\")\n"
   ]
  },
  {
   "cell_type": "code",
   "execution_count": 29,
   "metadata": {},
   "outputs": [
    {
     "name": "stdout",
     "output_type": "stream",
     "text": [
      "False Negative Rate (FNR) at threshold 0.5: 0.5032692688725976\n"
     ]
    }
   ],
   "source": [
    "import numpy as np\n",
    "\n",
    "def calculate_metrics(y_true, y_score, thresholds):\n",
    "    tpr_list = []\n",
    "    fpr_list = []\n",
    "    tnr_list = []\n",
    "    fnr_list = []\n",
    "    \n",
    "    for threshold in thresholds:\n",
    "        # Binarize predictions\n",
    "        y_preds_binary = (y_score >= threshold).astype(int)\n",
    "        \n",
    "        # Calculate confusion matrix components\n",
    "        TP = np.sum((y_preds_binary == 1) & (y_true == 1))\n",
    "        FN = np.sum((y_preds_binary == 0) & (y_true == 1))\n",
    "        TN = np.sum((y_preds_binary == 0) & (y_true == 0))\n",
    "        FP = np.sum((y_preds_binary == 1) & (y_true == 0))\n",
    "        \n",
    "        # Calculate rates\n",
    "        TPR = TP / (TP + FN) if (TP + FN) > 0 else 0\n",
    "        FPR = FP / (FP + TN) if (FP + TN) > 0 else 0\n",
    "        TNR = TN / (TN + FP) if (TN + FP) > 0 else 0\n",
    "        FNR = FN / (FN + TP) if (FN + TP) > 0 else 0\n",
    "        \n",
    "        tpr_list.append(TPR)\n",
    "        fpr_list.append(FPR)\n",
    "        tnr_list.append(TNR)\n",
    "        fnr_list.append(FNR)\n",
    "    \n",
    "    return np.array(tpr_list), np.array(fpr_list), np.array(tnr_list), np.array(fnr_list)\n",
    "\n",
    "# Example usage\n",
    "# Replace y_true and y_score with your actual data\n",
    "y_true = np.random.randint(0, 2, 10000)  # Example true labels\n",
    "y_score = np.random.rand(10000)  # Example predicted scores\n",
    "\n",
    "# Define a range of thresholds\n",
    "thresholds = np.linspace(0, 1, 100)\n",
    "\n",
    "# Calculate metrics\n",
    "tpr, fpr, tnr, fnr = calculate_metrics(y_true, y_score, thresholds)\n",
    "\n",
    "# Print an example result\n",
    "print(f\"False Negative Rate (FNR) at threshold 0.5: {fnr[np.searchsorted(thresholds, 0.5)]}\")\n"
   ]
  }
 ],
 "metadata": {
  "accelerator": "GPU",
  "colab": {
   "name": "ROC.ipynb",
   "provenance": []
  },
  "kernelspec": {
   "display_name": "Python 3",
   "language": "python",
   "name": "python3"
  },
  "language_info": {
   "codemirror_mode": {
    "name": "ipython",
    "version": 3
   },
   "file_extension": ".py",
   "mimetype": "text/x-python",
   "name": "python",
   "nbconvert_exporter": "python",
   "pygments_lexer": "ipython3",
   "version": "3.12.2"
  }
 },
 "nbformat": 4,
 "nbformat_minor": 1
}
